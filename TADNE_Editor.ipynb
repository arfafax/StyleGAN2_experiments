{
  "nbformat": 4,
  "nbformat_minor": 0,
  "metadata": {
    "colab": {
      "name": "TADNE Editor.ipynb",
      "provenance": [],
      "collapsed_sections": [
        "Vutcv21e5DMC",
        "RIW4gdO1cjnm",
        "lPgEF2KJdQVa"
      ],
      "toc_visible": true,
      "include_colab_link": true
    },
    "kernelspec": {
      "name": "python3",
      "display_name": "Python 3"
    },
    "accelerator": "TPU"
  },
  "cells": [
    {
      "cell_type": "markdown",
      "metadata": {
        "id": "view-in-github",
        "colab_type": "text"
      },
      "source": [
        "<a href=\"https://colab.research.google.com/github/arfafax/StyleGAN2_experiments/blob/master/TADNE_Editor.ipynb\" target=\"_parent\"><img src=\"https://colab.research.google.com/assets/colab-badge.svg\" alt=\"Open In Colab\"/></a>"
      ]
    },
    {
      "cell_type": "markdown",
      "metadata": {
        "id": "PtOVza7H9z3Y"
      },
      "source": [
        "# This Anime Does Not Exist - Ganspace Editor \n",
        "\n",
        "\n",
        "### To run:\n",
        "**Click \"Open in Playground\" above (if you see that option) and then Runtime > Run All and wait a few minutes for everything to load. (Takes about 4 minutes)**\n",
        "\n",
        "\n",
        "---\n",
        "\n",
        "\n",
        "### Credits\n",
        "\n",
        "Customizable anime images using [aydao](https://twitter.com/aydaoAI)'s anime StyleGAN2 model from [TADNE](https://thisanimedoesnotexist.ai/).\n",
        "\n",
        "Latent directions were discovered using [@harskish](https://twitter.com/harskish)'s [Ganspace](https://github.com/harskish/ganspace) [notebook](https://colab.research.google.com/github/harskish/ganspace/blob/master/notebooks/Ganspace_colab.ipynb) put together by [@realmeatyhuman](https://twitter.com/realmeatyhuman).\n",
        "\n",
        "\n",
        "Notebook by [arfa](https://twitter.com/arfafax)\n",
        "\n",
        "\n",
        "<div>\n",
        "<a href=\"https://www.twitter.com/arfafax\">\n",
        "<img src=\"https://thisfursonadoesnotexist.com/arfa_sig.png\" width=\"350\"/>\n",
        "</a>\n",
        "</div>\n",
        "<div>\n"
      ]
    },
    {
      "cell_type": "markdown",
      "metadata": {
        "id": "Vutcv21e5DMC"
      },
      "source": [
        "## <- Click the triangle to view the code while you wait for it to load\n"
      ]
    },
    {
      "cell_type": "code",
      "metadata": {
        "id": "Ixs37iA-Mxf2",
        "colab": {
          "base_uri": "https://localhost:8080/"
        },
        "outputId": "67690325-bd15-4dce-b3ca-fa308fbba5cf"
      },
      "source": [
        "!git clone https://github.com/shawwn/stylegan2 -b estimator /content/stylegan2"
      ],
      "execution_count": 25,
      "outputs": [
        {
          "output_type": "stream",
          "text": [
            "fatal: destination path '/content/stylegan2' already exists and is not an empty directory.\n"
          ],
          "name": "stdout"
        }
      ]
    },
    {
      "cell_type": "code",
      "metadata": {
        "id": "pXcjXwwhzJOW",
        "colab": {
          "base_uri": "https://localhost:8080/",
          "height": 0
        },
        "outputId": "b93096ca-f7d2-4347-9f6a-d719d4d43954"
      },
      "source": [
        "import gdown\n",
        "gdown.download('https://drive.google.com/uc?id=1qNhyusI0hwBLI-HOavkNP5I0J0-kcN4C', 'network-tadne.pkl', quiet=False)"
      ],
      "execution_count": 26,
      "outputs": [
        {
          "output_type": "stream",
          "text": [
            "Downloading...\n",
            "From: https://drive.google.com/uc?id=1qNhyusI0hwBLI-HOavkNP5I0J0-kcN4C\n",
            "To: /content/animations/network-tadne.pkl\n",
            "1.06GB [00:06, 171MB/s]\n"
          ],
          "name": "stderr"
        },
        {
          "output_type": "execute_result",
          "data": {
            "application/vnd.google.colaboratory.intrinsic+json": {
              "type": "string"
            },
            "text/plain": [
              "'network-tadne.pkl'"
            ]
          },
          "metadata": {
            "tags": []
          },
          "execution_count": 26
        }
      ]
    },
    {
      "cell_type": "code",
      "metadata": {
        "colab": {
          "base_uri": "https://localhost:8080/"
        },
        "id": "UB-om5xBcBMr",
        "outputId": "e189c4d1-1676-4882-821b-6047d970cf41"
      },
      "source": [
        "!wget  -O /content/tadne-directions.zip https://www.thisponydoesnotexist.net/tadne-directions.zip"
      ],
      "execution_count": 27,
      "outputs": [
        {
          "output_type": "stream",
          "text": [
            "--2021-01-28 07:37:41--  https://www.thisponydoesnotexist.net/tadne-directions.zip\n",
            "Resolving www.thisponydoesnotexist.net (www.thisponydoesnotexist.net)... 172.67.145.125, 104.21.65.129, 2606:4700:3037::ac43:917d, ...\n",
            "Connecting to www.thisponydoesnotexist.net (www.thisponydoesnotexist.net)|172.67.145.125|:443... connected.\n",
            "HTTP request sent, awaiting response... 302 Moved Temporarily\n",
            "Location: https://thisponydoesnotexist.net/tadne-directions.zip [following]\n",
            "--2021-01-28 07:37:41--  https://thisponydoesnotexist.net/tadne-directions.zip\n",
            "Resolving thisponydoesnotexist.net (thisponydoesnotexist.net)... 172.67.145.125, 104.21.65.129, 2606:4700:3032::6815:4181, ...\n",
            "Connecting to thisponydoesnotexist.net (thisponydoesnotexist.net)|172.67.145.125|:443... connected.\n",
            "HTTP request sent, awaiting response... 200 OK\n",
            "Length: 1966529 (1.9M) [application/zip]\n",
            "Saving to: ‘/content/tadne-directions.zip’\n",
            "\n",
            "/content/tadne-dire 100%[===================>]   1.88M  2.32MB/s    in 0.8s    \n",
            "\n",
            "2021-01-28 07:37:42 (2.32 MB/s) - ‘/content/tadne-directions.zip’ saved [1966529/1966529]\n",
            "\n"
          ],
          "name": "stdout"
        }
      ]
    },
    {
      "cell_type": "code",
      "metadata": {
        "id": "w_diRM7Fn1Pa",
        "colab": {
          "base_uri": "https://localhost:8080/"
        },
        "outputId": "694c7ed7-6bd5-4186-b7f3-066b22fe2f55"
      },
      "source": [
        "%tensorflow_version 1.x\n",
        "%cd /content/stylegan2"
      ],
      "execution_count": 28,
      "outputs": [
        {
          "output_type": "stream",
          "text": [
            "/content/stylegan2\n"
          ],
          "name": "stdout"
        }
      ]
    },
    {
      "cell_type": "code",
      "metadata": {
        "id": "Pt4kvzEM39oI"
      },
      "source": [
        "import os\n",
        "import pickle\n",
        "import numpy as np\n",
        "import PIL.Image\n",
        "import dnnlib\n",
        "import dnnlib.tflib as tflib\n",
        "import scipy\n",
        "import tensorflow as tf\n",
        "import tflex"
      ],
      "execution_count": 29,
      "outputs": []
    },
    {
      "cell_type": "code",
      "metadata": {
        "id": "8coaz5KZeFum"
      },
      "source": [
        "if 'COLAB_TPU_ADDR' in os.environ:\n",
        "    os.environ['TPU_NAME'] = 'grpc://' + os.environ['COLAB_TPU_ADDR']\n",
        "    os.environ['NOISY'] = '1'"
      ],
      "execution_count": 30,
      "outputs": []
    },
    {
      "cell_type": "code",
      "metadata": {
        "id": "Mg9DrxVNJ8am"
      },
      "source": [
        "tflib.init_tf()\n",
        "sess = tf.get_default_session()\n",
        "sess.list_devices()\n",
        "cores = tflex.get_cores()\n",
        "tflex.set_override_cores(cores)\n",
        "_G, _D, Gs = pickle.load(open(\"/content/network-tadne.pkl\", \"rb\"))\n",
        "# _G = Instantaneous snapshot of the generator. Mainly useful for resuming a previous training run.\n",
        "# _D = Instantaneous snapshot of the discriminator. Mainly useful for resuming a previous training run.\n",
        "# Gs = Long-term average of the generator. Yields higher-quality results than the instantaneous snapshot."
      ],
      "execution_count": 31,
      "outputs": []
    },
    {
      "cell_type": "code",
      "metadata": {
        "id": "Zh5l7AqyI_7u"
      },
      "source": [
        " def generate_image_from_w(w, truncation_psi):\n",
        "    with tflex.device('/gpu:0'):\n",
        "        noise_vars = [var for name, var in Gs.components.synthesis.vars.items() if name.startswith('noise')]\n",
        "        Gs_kwargs = dnnlib.EasyDict()\n",
        "        Gs_kwargs.output_transform = dict(func=tflib.convert_images_to_uint8, nchw_to_nhwc=True)\n",
        "        Gs_kwargs.randomize_noise = False\n",
        "        if truncation_psi is not None:\n",
        "            Gs_kwargs.truncation_psi = truncation_psi\n",
        "        synthesis_kwargs = dict(output_transform=Gs_kwargs.output_transform, truncation_psi=truncation_psi, minibatch_size=1)\n",
        "        images = Gs.components.synthesis.run(w, randomize_noise=False, **synthesis_kwargs)\n",
        "        display(PIL.Image.fromarray(images[0], 'RGB').resize((500,500),Image.LANCZOS))"
      ],
      "execution_count": 32,
      "outputs": []
    },
    {
      "cell_type": "code",
      "metadata": {
        "id": "OnNwBLIBJnc2",
        "colab": {
          "base_uri": "https://localhost:8080/"
        },
        "outputId": "ac990e32-b015-4387-b83f-e30daa05b02e"
      },
      "source": [
        "%cd \"/content\""
      ],
      "execution_count": 33,
      "outputs": [
        {
          "output_type": "stream",
          "text": [
            "/content\n"
          ],
          "name": "stdout"
        }
      ]
    },
    {
      "cell_type": "code",
      "metadata": {
        "id": "dYt6T-A5JqEB",
        "colab": {
          "base_uri": "https://localhost:8080/"
        },
        "outputId": "c2cb7285-b00b-45ba-c414-96dae2d55c16"
      },
      "source": [
        "%mkdir directions\n",
        "%cd directions\n",
        "!unzip /content/tadne-directions.zip"
      ],
      "execution_count": null,
      "outputs": [
        {
          "output_type": "stream",
          "text": [
            "mkdir: cannot create directory ‘directions’: File exists\n",
            "/content/directions\n",
            "Archive:  /content/tadne-directions.zip\n",
            "replace c47.2_layers_6_9.npy? [y]es, [n]o, [A]ll, [N]one, [r]ename: "
          ],
          "name": "stdout"
        }
      ]
    },
    {
      "cell_type": "code",
      "metadata": {
        "id": "f7mSvjWbJvb0"
      },
      "source": [
        "!rm /content/directions/StyleGAN2-Light_direction-ffhq-ipca-w-style-comp15-range8-9.pkl\n",
        "#!rm -r /content/directions/.ipynb_checkpoints\n",
        "#!mv /content/directions/directions/* /content/ganspace/directions\n",
        "#!rm -r /content/directions/directions"
      ],
      "execution_count": null,
      "outputs": []
    },
    {
      "cell_type": "code",
      "metadata": {
        "id": "K9oJWI1PJv7e"
      },
      "source": [
        "import os\n",
        "named_directions = {}\n",
        "latent_dirs = []\n",
        "starts = []\n",
        "ends = []\n",
        "# \n",
        "path_to_directions = \"/content/directions\"\n",
        "\n",
        "# This loads the directions in a dictionary in this format:\n",
        "# {'name' : [direction_num, start, end]}\n",
        "# and you load the direction by:\n",
        "# directions[direction_num]\n",
        "\n",
        "for i,file in enumerate(sorted(os.listdir(path_to_directions))):\n",
        "    np_file = np.load(f'{path_to_directions}/{file}', allow_pickle=True)\n",
        "    name = file.split(\"_layers_\")[0].split(\"/\")[-1]\n",
        "    file = file.split('_')\n",
        "    comp = int(name.split(\".\")[0][1:])\n",
        "    \n",
        "    named_directions[f'{name}'] = [comp, int(file[-2]), int(file[-1].split('.')[0]), f'{name}']\n",
        "    if int(file[-2]) == 0:\n",
        "        latent_dirs.append(np_file)\n"
      ],
      "execution_count": null,
      "outputs": []
    },
    {
      "cell_type": "code",
      "metadata": {
        "id": "-OSkc-vFALMM"
      },
      "source": [
        "named_directions"
      ],
      "execution_count": null,
      "outputs": []
    },
    {
      "cell_type": "code",
      "metadata": {
        "id": "6N_8gJsZiMxB"
      },
      "source": [
        "import yaml\n",
        "%mkdir /content/animations\n",
        "%cd /content/animations"
      ],
      "execution_count": null,
      "outputs": []
    },
    {
      "cell_type": "markdown",
      "metadata": {
        "id": "YtukNhESJ_b_"
      },
      "source": [
        "# UI"
      ]
    },
    {
      "cell_type": "code",
      "metadata": {
        "id": "Jf1NZHlaKBGV",
        "cellView": "form"
      },
      "source": [
        "#@title Run UI (make sure you've done Runtime > Run All first or it won't work)\n",
        "from ipywidgets import fixed\n",
        "import PIL\n",
        "import numpy as np\n",
        "import ipywidgets as widgets\n",
        "from PIL import Image\n",
        "from IPython.display import clear_output\n",
        "from ipywidgets import Layout, Button, Box, VBox, Label\n",
        "\n",
        "box_layout = Layout(overflow='scroll hidden',\n",
        "                    border='3px solid black',\n",
        "                    width='',\n",
        "                    height=\"500px\")\n",
        "\n",
        "loaded_w = None\n",
        "def display_sample(seed, truncation, direction, distance, scale, start, end, update, disp=True, save=None, noise_spec=None, **args):\n",
        "    global loaded_w\n",
        "    if update == False:\n",
        "        print(\"False\")\n",
        "    # blockPrint()\n",
        "    rng = np.random.RandomState(seed)\n",
        "    z = rng.standard_normal(*Gs.input_shape[1:]).reshape(1, *Gs.input_shape[1:])\n",
        "    #z = np.load(\"/content/drive/My Drive/latents/1006-0-0-9.npy\")\n",
        "    noise_vars = [var for name, var in Gs.components.synthesis.vars.items() if name.startswith('noise')]\n",
        "    Gs_kwargs = dnnlib.EasyDict()\n",
        "    Gs_kwargs.randomize_noise = False\n",
        "\n",
        "    all_w = Gs.components.mapping.run(z, None, **Gs_kwargs) # [minibatch, layer, component]\n",
        "    if loaded_w is not None:\n",
        "      all_w = loaded_w.copy()\n",
        "    \n",
        "    for i, item in enumerate(args):\n",
        "        value = args[item]\n",
        "        start_l = named_directions[item][1]\n",
        "        end_l = min(16, named_directions[item][2])\n",
        "        direction_l = latent_dirs[named_directions[item][0]]\n",
        "        for l in range(start_l, end_l):\n",
        "            all_w[0][l] = all_w[0][l] + direction_l * value * scale\n",
        "\n",
        "    if truncation != 1:\n",
        "        w_avg = Gs.get_var('dlatent_avg')\n",
        "        all_w = w_avg + (all_w - w_avg) * truncation # [minibatch, layer, component]\n",
        "\n",
        "    generate_image_from_w(all_w, truncation)\n",
        "\n",
        "seed = np.random.randint(0,100000)\n",
        "style = {'description_width': 'initial', 'width': '150px'}\n",
        "row_length = 6\n",
        "\n",
        "seed = widgets.IntSlider(min=0, max=100000, step=1, value=seed, description='Seed: ', continuous_update=False)\n",
        "truncation = widgets.FloatSlider(min=0, max=2, step=0.1, value=0.4, description='Truncation: ', continuous_update=False)\n",
        "distance = widgets.FloatSlider(min=-10, max=10, step=0.1, value=0, description='Distance: ', continuous_update=False, style=style)\n",
        "scale = widgets.FloatSlider(min=0, max=10, step=0.05, value=1, description='Scale: ', continuous_update=False)\n",
        "start_layer = widgets.IntSlider(min=0, max=18, step=1, value=18, description='start layer: ', continuous_update=False)\n",
        "end_layer = widgets.IntSlider(min=0, max=18, step=1, value=18, description='end layer: ', continuous_update=False)\n",
        "\n",
        "\n",
        "update = widgets.Checkbox(value=True, description=\"update\")\n",
        "\n",
        "directions_list = []\n",
        "params = {'seed': seed, 'truncation': truncation, 'direction': fixed(0), 'distance': distance, 'scale': scale, 'start': start_layer, 'end': end_layer, 'update' : update}\n",
        "\n",
        "for i, item in enumerate(named_directions):\n",
        "    name = named_directions[item][3]\n",
        "    widget = widgets.FloatSlider(min=-20, max=20, step=0.1, value=0, description=name + ': ', continuous_update=False, style=style, layout={'width' : 'auto'})\n",
        "    directions_list.append(widget)\n",
        "    params[item] = widget\n",
        "\n",
        "top_box = widgets.HBox([seed, truncation])\n",
        "rename_dropdown = widgets.Dropdown(options=named_directions.keys())\n",
        "rename_box = widgets.Text()\n",
        "rename = widgets.Button(description=\"Rename\")\n",
        "bot_box = widgets.HBox([rename_dropdown, rename_box, rename])\n",
        "\n",
        "ui = widgets.VBox([top_box, bot_box])\n",
        "\n",
        "grid = widgets.GridspecLayout(len(directions_list)//6, 6, width='90%', height=\"300px\")\n",
        "for i in range(len(directions_list)//6):\n",
        "    for j in range(6):\n",
        "        grid[i, j] = directions_list[6*i+j]\n",
        "    \n",
        "ui2 = grid\n",
        "\n",
        "\n",
        "random = widgets.Button(description=\"Randomize Sliders\")\n",
        "reset = widgets.Button(description=\"Reset Sliders\")\n",
        "mobile = widgets.Button(description=\"Mobile Mode\")\n",
        "desktop = widgets.Button(description=\"Desktop Mode\")\n",
        "def reset_sliders(b):\n",
        "    directions_list = []\n",
        "    params_new = {'seed': seed, 'truncation': truncation, 'direction': fixed(0), 'distance': distance, 'scale': scale, 'start': start_layer, 'end': end_layer, 'update' : update}\n",
        "    for i, item in enumerate(named_directions):\n",
        "        name = named_directions[item][3]\n",
        "        widget = widgets.FloatSlider(min=-20, max=20, step=0.1, value=0, description=name + ': ', continuous_update=False, style=style, layout={'width' : 'auto'})\n",
        "        directions_list.append(widget)\n",
        "        params_new[item] = widget\n",
        "    params = params_new\n",
        "    grid = widgets.GridspecLayout(len(directions_list)//6, 6, width='90%', height=\"300px\")\n",
        "    for i in range(len(directions_list)//6):\n",
        "        for j in range(6):\n",
        "            grid[i, j] = directions_list[6*i+j]\n",
        "        \n",
        "    ui2 = grid\n",
        "    clear_output()\n",
        "    out = widgets.interactive_output(display_sample, params)\n",
        "    last_button = mobile\n",
        "    if row_length == 1:\n",
        "        last_button = desktop\n",
        "    display(ui, out, ui2, reset, random, last_button, widgets.HBox([save_name, save_btn]), widgets.HBox([load_name, load_btn]))\n",
        "\n",
        "def random_sliders(b):\n",
        "    directions_list = []\n",
        "    params_new = {'seed': seed, 'truncation': truncation, 'direction': fixed(0), 'distance': distance, 'scale': scale, 'start': start_layer, 'end': end_layer, 'update' : update}\n",
        "    for i, item in enumerate(named_directions):\n",
        "        name = named_directions[item][3]\n",
        "        widget = widgets.FloatSlider(min=-20, max=20, step=0.1, value=np.random.normal(scale=2.5), description=name + ': ', continuous_update=False, style=style, layout={'width' : 'auto'})\n",
        "        directions_list.append(widget)\n",
        "        params_new[item] = widget\n",
        "    params = params_new\n",
        "    grid = widgets.GridspecLayout(len(directions_list)//6, 6, width='90%', height=\"300px\")\n",
        "    for i in range(len(directions_list)//6):\n",
        "        for j in range(6):\n",
        "            grid[i, j] = directions_list[6*i+j]\n",
        "        \n",
        "    ui2 = grid\n",
        "    clear_output()\n",
        "    out = widgets.interactive_output(display_sample, params)\n",
        "    last_button = mobile\n",
        "    if row_length == 1:\n",
        "        last_button = desktop\n",
        "    display(ui, out, ui2, reset, random, last_button, widgets.HBox([save_name, save_btn]), widgets.HBox([load_name, load_btn]))\n",
        "\n",
        "def mobile_mode(b):\n",
        "    global row_length\n",
        "    global params\n",
        "    row_length = 1\n",
        "    directions_list = []\n",
        "    params_new = {'seed': seed, 'truncation': truncation, 'direction': fixed(0), 'distance': distance, 'scale': scale, 'start': start_layer, 'end': end_layer, 'update' : update}\n",
        "    for i, item in enumerate(named_directions):\n",
        "        name = named_directions[item][3]\n",
        "        widget = widgets.FloatSlider(min=-20, max=20, step=0.1, value=params[item].value, description=name + ': ', continuous_update=False, style=style, layout={'width' : 'auto'})\n",
        "        directions_list.append(widget)\n",
        "        params_new[item] = widget\n",
        "    params = params_new\n",
        "    row_list = []\n",
        "    foo = []\n",
        "    for i, item in enumerate(directions_list):\n",
        "        row_list.append(item)\n",
        "        if len(row_list) == row_length:\n",
        "            bar = widgets.HBox(row_list)\n",
        "            foo.append(bar)\n",
        "            row_list = []\n",
        "    bar = widgets.HBox(row_list)\n",
        "    foo.append(bar)\n",
        "\n",
        "    ui2 = widgets.VBox(foo)\n",
        "    clear_output()\n",
        "    out = widgets.interactive_output(display_sample, params)\n",
        "    display(ui, out, ui2, reset, random, desktop, widgets.HBox([save_name, save_btn]), widgets.HBox([load_name, load_btn]))\n",
        "\n",
        "def desktop_mode(b):\n",
        "    global row_length\n",
        "    global params\n",
        "    row_length = 6\n",
        "    directions_list = []\n",
        "    params_new = {'seed': seed, 'truncation': truncation, 'direction': fixed(0), 'distance': distance, 'scale': scale, 'start': start_layer, 'end': end_layer, 'update' : update}\n",
        "    for i, item in enumerate(named_directions):\n",
        "        name = named_directions[item][3]\n",
        "        widget = widgets.FloatSlider(min=-20, max=20, step=0.1, value=params[item].value, description=name + ': ', continuous_update=False, style=style, layout={'width' : 'auto'})\n",
        "        directions_list.append(widget)\n",
        "        params_new[item] = widget\n",
        "    params = params_new\n",
        "    grid = widgets.GridspecLayout(len(directions_list)//6, 6, width='90%', height=\"300px\")\n",
        "    for i in range(len(directions_list)//6):\n",
        "        for j in range(6):\n",
        "            grid[i, j] = directions_list[6*i+j]\n",
        "        \n",
        "    ui2 = grid\n",
        "    clear_output()\n",
        "    out = widgets.interactive_output(display_sample, params)\n",
        "    display(ui, out, ui2, reset, random, mobile, widgets.HBox([save_name, save_btn]), widgets.HBox([load_name, load_btn]))\n",
        "\n",
        "def rename_slider(b):\n",
        "    global row_length\n",
        "    global params\n",
        "    print(rename_dropdown.value, rename_box.value)\n",
        "    named_directions[rename_dropdown.value][3] = rename_box.value\n",
        "    #del named_directions[rename_dropdown.value]\n",
        "    directions_list = []\n",
        "    params_new = {'seed': seed, 'truncation': truncation, 'direction': fixed(0), 'distance': distance, 'scale': scale, 'start': start_layer, 'end': end_layer, 'update' : update}\n",
        "    for i, item in enumerate(named_directions):\n",
        "        name = named_directions[item][3]\n",
        "        value_new = 0\n",
        "        if item in params:\n",
        "            value_new = params[item].value\n",
        "        widget = widgets.FloatSlider(min=-20, max=20, step=0.1, value=value_new, description=name + ': ', continuous_update=False, style=style, layout={'width' : 'auto'})\n",
        "        directions_list.append(widget)\n",
        "        params_new[item] = widget\n",
        "    params = params_new\n",
        "    grid = widgets.GridspecLayout(len(directions_list)//6, 6, width='90%', height=\"300px\")\n",
        "    for i in range(len(directions_list)//6):\n",
        "        for j in range(6):\n",
        "            grid[i, j] = directions_list[6*i+j]\n",
        "        \n",
        "    ui2 = grid\n",
        "    clear_output()\n",
        "    out = widgets.interactive_output(display_sample, params)\n",
        "    display(ui, out, ui2, reset, random, mobile, widgets.HBox([save_name, save_btn]), widgets.HBox([load_name, load_btn]))\n",
        "  \n",
        "save_name = widgets.Text()\n",
        "load_name = widgets.Text()\n",
        "save_btn = widgets.Button(description=\"Save\")\n",
        "load_btn = widgets.Button(description=\"Load\")\n",
        "\n",
        "def load_w(b):\n",
        "    global loaded_w\n",
        "    print(\"Loading \", load_name.value + \".npy\")\n",
        "    loaded_w = np.load(load_name.value + \".npy\")\n",
        "\n",
        "def save_w(b):\n",
        "    global loaded_w\n",
        "    rng = np.random.RandomState(params['seed'].value)\n",
        "    z = rng.standard_normal(*Gs.input_shape[1:]).reshape(1, *Gs.input_shape[1:])\n",
        "\n",
        "    noise_vars = [var for name, var in Gs.components.synthesis.vars.items() if name.startswith('noise')]\n",
        "    Gs_kwargs = dnnlib.EasyDict()\n",
        "    Gs_kwargs.randomize_noise = False\n",
        "\n",
        "    all_w = Gs.components.mapping.run(z, None, **Gs_kwargs) # [minibatch, layer, component]\n",
        "    if loaded_w is not None:\n",
        "        all_w = loaded_w.copy()\n",
        "\n",
        "    for i, item in enumerate(params):\n",
        "        if item not in ['seed', 'truncation', 'direction', 'distance', 'scale', 'start', 'end', 'update']:\n",
        "            value = params[item].value\n",
        "            start_l = named_directions[item][1]\n",
        "            end_l = min(16, named_directions[item][2])\n",
        "            direction_l = latent_dirs[named_directions[item][0]]\n",
        "            for l in range(start_l, end_l):\n",
        "                all_w[0][l] = all_w[0][l] + direction_l * value * params['scale'].value\n",
        "\n",
        "    if truncation != 1:\n",
        "        w_avg = Gs.get_var('dlatent_avg')\n",
        "        all_w = w_avg + (all_w - w_avg) * params['truncation'].value # [minibatch, layer, component]\n",
        "\n",
        "    from datetime import datetime\n",
        "    now = datetime.now()\n",
        "\n",
        "    out_name = now.isoformat()\n",
        "    \n",
        "    if save_name.value:\n",
        "        out_name = save_name.value\n",
        "    np.save(out_name + \".npy\", all_w)\n",
        "    print(\"saved \", out_name + \".npy\")\n",
        "\n",
        "random.on_click(random_sliders)\n",
        "reset.on_click(reset_sliders)\n",
        "mobile.on_click(mobile_mode)\n",
        "desktop.on_click(desktop_mode)\n",
        "rename.on_click(rename_slider)\n",
        "save_btn.on_click(save_w)\n",
        "load_btn.on_click(load_w)\n",
        "out = widgets.interactive_output(display_sample, params)\n",
        "display(ui, out, ui2, reset, random, mobile, widgets.HBox([save_name, save_btn]), widgets.HBox([load_name, load_btn]))\n",
        "\n"
      ],
      "execution_count": null,
      "outputs": []
    },
    {
      "cell_type": "markdown",
      "metadata": {
        "id": "RIW4gdO1cjnm"
      },
      "source": [
        "# Animation stuff"
      ]
    },
    {
      "cell_type": "code",
      "metadata": {
        "id": "dcOUM7ZnclE6"
      },
      "source": [
        "import math\n",
        "from PIL import ImageFont\n",
        "from PIL import ImageDraw\n",
        "def interpolate_between_ws(seed_array, truncation=0.5, duration_sec = 12.0, smoothing_sec = 1.0, mp4_fps = 20, filename=None, text=False):\n",
        "    #_G, _D, Gs = pickle.load(open(\"/content/network-e621.pkl\", \"rb\"))\n",
        "    Gs_kwargs = dnnlib.EasyDict()\n",
        "    Gs_kwargs.output_transform = dict(func=tflib.convert_images_to_uint8, nchw_to_nhwc=True)\n",
        "    Gs_kwargs.randomize_noise = False\n",
        "    synthesis_kwargs = dict(output_transform=Gs_kwargs.output_transform, truncation_psi=truncation, minibatch_size=8)\n",
        "    noise_vars = [var for name, var in Gs.components.synthesis.vars.items() if name.startswith('noise')]\n",
        "    #if seed_array[0] != seed_array[-1]:\n",
        "    #    seed_array.append(seed_array[0])\n",
        "    \n",
        "\n",
        "    all_w = seed_array\n",
        "        \n",
        "    num_frames = int(np.rint(duration_sec * mp4_fps))\n",
        "        \n",
        "    def make_frame(t):\n",
        "        blend = ((len(seed_array)-1)*t/duration_sec)%1.0\n",
        "        src_i = math.floor((t/duration_sec)*(len(seed_array)-1))\n",
        "        dst_i = src_i + 1\n",
        "        #print(t, blend, src_i, dst_i)\n",
        "        all_w_new = (blend * all_w[dst_i]) + (1 - blend) * all_w[src_i]\n",
        "        all_images_src = Gs.components.synthesis.run(all_w_new, randomize_noise=False, **synthesis_kwargs)\n",
        "        #all_images_dst = Gs.components.synthesis.run(all_w_dst, randomize_noise=False, **synthesis_kwargs)\n",
        "        if text:\n",
        "            new_im = PIL.Image.new('RGB', (512, 600))\n",
        "            new_im.paste(PIL.Image.fromarray(np.median(all_images_src, axis=0).astype(np.uint8)), (0, 0))\n",
        "            draw = ImageDraw.Draw(new_im)\n",
        "            font = ImageFont.truetype(\"/usr/share/fonts/truetype/liberation/LiberationSans-Regular.ttf\", size=16)\n",
        "            draw.text((10, 512), \"{:0.2f}\".format((1-blend)), (255, 0, 0), font=font)\n",
        "            draw.text((50, 512), str(seed_array[src_i]), (255, 255, 255), font=font)\n",
        "            draw.text((10, 550), \"{:0.2f}\".format((blend)), (0, 255, 0), font=font)\n",
        "            draw.text((50, 550), str(seed_array[dst_i]), (255, 255, 255), font=font)\n",
        "            return np.array(new_im)\n",
        "        else:\n",
        "            return all_images_src[0]\n",
        "\n",
        "    \n",
        "    import moviepy.editor\n",
        "    from datetime import datetime\n",
        "    now = datetime.now()\n",
        "\n",
        "    np.save(now.isoformat() + \".npy\", all_w)\n",
        "    mp4_file = '%s.mp4' % (now)\n",
        "    if filename:\n",
        "        mp4_file = filename\n",
        "    mp4_codec = 'libx264'\n",
        "    mp4_bitrate = '5M'\n",
        "\n",
        "    video_clip = moviepy.editor.VideoClip(make_frame, duration=duration_sec)\n",
        "    video_clip.write_videofile(mp4_file, fps=mp4_fps, codec=mp4_codec, bitrate=mp4_bitrate)\n",
        "    \n",
        "    return mp4_file"
      ],
      "execution_count": null,
      "outputs": []
    },
    {
      "cell_type": "code",
      "metadata": {
        "id": "8DZJM9u8cuOa"
      },
      "source": [
        "import glob\n",
        "def preview_files():\n",
        "    for file in sorted(glob.glob(\"*.npy\")):\n",
        "      try:\n",
        "        truncation = 1\n",
        "        print(file)\n",
        "        w = np.load(file)\n",
        "        noise_vars = [var for name, var in Gs.components.synthesis.vars.items() if name.startswith('noise')]\n",
        "        Gs_kwargs = dnnlib.EasyDict()\n",
        "        Gs_kwargs.randomize_noise = False\n",
        "\n",
        "\n",
        "        if truncation != 1:\n",
        "            w_avg = Gs.get_var('dlatent_avg')\n",
        "            all_w = w_avg + (all_w - w_avg) * truncation # [minibatch, layer, component]\n",
        "\n",
        "        generate_image_from_w(w, truncation)\n",
        "      except:\n",
        "        print(\"Error\")"
      ],
      "execution_count": null,
      "outputs": []
    },
    {
      "cell_type": "markdown",
      "metadata": {
        "id": "lPgEF2KJdQVa"
      },
      "source": [
        "# Generate animation"
      ]
    },
    {
      "cell_type": "code",
      "metadata": {
        "id": "5Odp38W4eiG9"
      },
      "source": [
        "!error Causing an error so the following cells are not run automatically...."
      ],
      "execution_count": null,
      "outputs": []
    },
    {
      "cell_type": "markdown",
      "metadata": {
        "id": "DRsRrdPOdTXB"
      },
      "source": [
        "Run this cell to preview all of the snapshots you've saved:"
      ]
    },
    {
      "cell_type": "code",
      "metadata": {
        "id": "jSR8e6-vdZ1F"
      },
      "source": [
        "preview_files()"
      ],
      "execution_count": null,
      "outputs": []
    },
    {
      "cell_type": "markdown",
      "metadata": {
        "id": "1X0NR73xdbyF"
      },
      "source": [
        "List all of the files you want to animate between:"
      ]
    },
    {
      "cell_type": "code",
      "metadata": {
        "id": "QzhiuZKrdSPD"
      },
      "source": [
        "ws = '''\n",
        "pose1.npy\n",
        "pose2.npy\n",
        "pose3.npy\n",
        "'''.split()\n",
        "ws\n"
      ],
      "execution_count": null,
      "outputs": []
    },
    {
      "cell_type": "markdown",
      "metadata": {
        "id": "sU9URd9ld1ag"
      },
      "source": [
        "Run this to generate the animation:"
      ]
    },
    {
      "cell_type": "code",
      "metadata": {
        "id": "8_6bjmW4dqt5"
      },
      "source": [
        "w_arr = []\n",
        "for w in ws:\n",
        "    w_val = np.load(w)\n",
        "    w_arr.append(w_val)\n",
        "\n",
        "output_file = interpolate_between_ws(w_arr, duration_sec = 2.0, smoothing_sec = 1.0, mp4_fps = 30)"
      ],
      "execution_count": null,
      "outputs": []
    },
    {
      "cell_type": "markdown",
      "metadata": {
        "id": "IbQdPjyCd3xO"
      },
      "source": [
        "Run this to download the animation:"
      ]
    },
    {
      "cell_type": "code",
      "metadata": {
        "id": "JK2cYFMwd5gK"
      },
      "source": [
        "from google.colab import files\n",
        "files.download(output_file) "
      ],
      "execution_count": null,
      "outputs": []
    }
  ]
}